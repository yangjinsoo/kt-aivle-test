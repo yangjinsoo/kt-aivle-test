{
 "cells": [
  {
   "cell_type": "markdown",
   "metadata": {
    "id": "JY4D1wxOa6qj"
   },
   "source": [
    "\n",
    "![](https://upload.wikimedia.org/wikipedia/commons/thumb/3/31/NumPy_logo_2020.svg/330px-NumPy_logo_2020.svg.png)"
   ]
  },
  {
   "cell_type": "markdown",
   "metadata": {
    "id": "BFhIXgdYoYGp"
   },
   "source": [
    "# 01. 넘파이 기초"
   ]
  },
  {
   "cell_type": "markdown",
   "metadata": {
    "id": "knW4AvmePAtI"
   },
   "source": [
    "학습 목표\n",
    "\n",
    "- Numpy 배열의 기본 개념을 이해합니다.\n",
    "- 1차원, 2차원, 3차원 배열을 만들 수 있습니다.\n",
    "- Reshape 기능을 사용해 배열 형태를 바꿀 수 있습니다.\n",
    "- 인덱싱과 슬라이싱으로 원하는 데이터를 조회할 수 있습니다.\n",
    "- 배열 사이의 기본적인 연산을 수행할 수 있습니다."
   ]
  },
  {
   "cell_type": "markdown",
   "metadata": {
    "id": "1QmK9QLhVqv1"
   },
   "source": [
    "## 1.라이브러리 불러오기\n",
    "\n",
    "- Numpy 배열을 사용하려면 우선 **numpy** 라이브러리를 불러와야 합니다.\n",
    "- numpy 라이브러리는 일반적으로 **np** 별칭을 붙여 불러옵니다."
   ]
  },
  {
   "cell_type": "code",
   "execution_count": 1,
   "metadata": {
    "id": "QBxfYJR8Vqv1"
   },
   "outputs": [],
   "source": [
    "# 라이브러리 불러오기\n",
    "import numpy as np"
   ]
  },
  {
   "cell_type": "markdown",
   "metadata": {
    "id": "XPklNj6HVqwF"
   },
   "source": [
    "## 2.배열 만들기\n",
    "\n",
    "- 편의를 위해 **Numpy 배열**을 그냥 **배열**이라고 부르기로 합시다.\n",
    "- 이후 데이터 처리시 배열로 변환해 연산을 하거나, 결과가 배열로 표시되는 경우가 있습니다.\n",
    "- 배열에 대한 개념은 정확히 파악해 두기를 권고합니다."
   ]
  },
  {
   "cell_type": "markdown",
   "metadata": {
    "id": "aPhtjq5SVqwG"
   },
   "source": [
    "### 2.1.용어 정의"
   ]
  },
  {
   "cell_type": "markdown",
   "metadata": {
    "id": "SCZ06y9XVqwG"
   },
   "source": [
    "<img src='https://raw.githubusercontent.com/Jangrae/img/master/array.png' width=300 align=\"left\"/>"
   ]
  },
  {
   "cell_type": "markdown",
   "metadata": {
    "id": "v6_mxJENNgqI"
   },
   "source": [
    "**[용어]**\n",
    "- axis: 배열의 각 축\n",
    "- rank: 축의 개수\n",
    "- shape: 축의 길이, 배열의 크기\n",
    "\n",
    "  \n",
    "**[3 x 4 배열의 경우]**\n",
    "- axis 0 과 axis 1 을 갖는 2차원 배열\n",
    "- rank 2 array \n",
    "- shape는 (3, 4)"
   ]
  },
  {
   "cell_type": "markdown",
   "metadata": {
    "id": "d1nVJucfVqwI"
   },
   "source": [
    "### 2.2.배열 만들기\n",
    "\n",
    "- **np.array() 함수**를 사용해서 배열을 만듭니다.\n",
    "- 대부분 **리스트**로부터 배열을 만들거나, 머신러닝 관련 함수 결괏값이 배열이 됩니다."
   ]
  },
  {
   "cell_type": "markdown",
   "metadata": {
    "id": "KkJuoomF0w7X"
   },
   "source": [
    "#### 2.2.1.배열 만들기"
   ]
  },
  {
   "cell_type": "markdown",
   "metadata": {
    "id": "4a-yLEsQyz1m"
   },
   "source": [
    "**1) 1차원 배열 만들기**"
   ]
  },
  {
   "cell_type": "code",
   "execution_count": 3,
   "metadata": {
    "id": "zviakX46zEzg"
   },
   "outputs": [
    {
     "name": "stdout",
     "output_type": "stream",
     "text": [
      "[1, 2, 3, 4, 5]\n",
      "[1 2 3 4 5]\n"
     ]
    }
   ],
   "source": [
    "# 1차원 리스트\n",
    "a1 = [1, 2, 3, 4, 5]\n",
    "\n",
    "# 배열로 변환\n",
    "b1 = np.array(a1)\n",
    "\n",
    "# 확인\n",
    "print(a1)\n",
    "print(b1)"
   ]
  },
  {
   "cell_type": "markdown",
   "metadata": {
    "id": "1LZ0lOs_y3qY"
   },
   "source": [
    "**2) 2차원 배열 만들기**"
   ]
  },
  {
   "cell_type": "code",
   "execution_count": 4,
   "metadata": {
    "id": "3t8-tbQaznfw"
   },
   "outputs": [
    {
     "name": "stdout",
     "output_type": "stream",
     "text": [
      "[[1.5 2.5 3.2]\n",
      " [4.2 5.7 6.4]]\n"
     ]
    }
   ],
   "source": [
    "# 2차원 리스트 \n",
    "# a2 = [[1.5, 2.5, 3.2], [4.2, 5.7, 6.4]]\n",
    "a2 = [[1.5, 2.5, 3.2], \n",
    "      [4.2, 5.7, 6.4]]\n",
    "\n",
    "# 배열로 변환\n",
    "b2 = np.array(a2)\n",
    "\n",
    "# 확인\n",
    "print(b2)"
   ]
  },
  {
   "cell_type": "markdown",
   "metadata": {
    "id": "e7E9ev7by3zY"
   },
   "source": [
    "**3) 3차원 배열 만들기**"
   ]
  },
  {
   "cell_type": "code",
   "execution_count": 5,
   "metadata": {
    "id": "y4QCIoCvz3ov"
   },
   "outputs": [
    {
     "name": "stdout",
     "output_type": "stream",
     "text": [
      "[[[1 3 1]\n",
      "  [4 7 6]\n",
      "  [8 3 4]]\n",
      "\n",
      " [[6 2 4]\n",
      "  [8 1 5]\n",
      "  [3 5 9]]]\n"
     ]
    }
   ],
   "source": [
    "# 3차원 리스트\n",
    "# a3 = [[[1, 3, 1], [4, 7, 6], [8, 3, 4]], [[6, 2, 4], [8, 1, 5], [3, 5, 9]]]\n",
    "a3 = [[[1, 3, 1],\n",
    "       [4, 7, 6],\n",
    "       [8, 3, 4]],\n",
    "      [[6, 2, 4],  \n",
    "       [8, 1, 5],\n",
    "       [3, 5, 9]]]\n",
    "\n",
    "# 배열로 변환\n",
    "b3 = np.array(a3)\n",
    "\n",
    "# 확인\n",
    "print(b3)"
   ]
  },
  {
   "cell_type": "markdown",
   "metadata": {
    "id": "vxMxUvQIVqwI"
   },
   "source": [
    "#### 2.2.2.배열 정보 확인\n",
    "\n",
    "- 배열 정보를 확인하는 다음 속성들을 기억하시기 바랍니다.\n",
    "- 특히 shape 속성은 이후에도 많이 사용될 것입니다."
   ]
  },
  {
   "cell_type": "markdown",
   "metadata": {
    "id": "gVHjrTHZRSbm"
   },
   "source": [
    "<img src='https://github.com/DA4BAM/image/blob/main/1,2,3%20%EC%B0%A8%EC%9B%90.png?raw=true' width=800 align=\"left\"/>"
   ]
  },
  {
   "cell_type": "markdown",
   "metadata": {
    "id": "U5qjQi8E1pw0"
   },
   "source": [
    "**1) 차원 확인**\n",
    "\n",
    "- ndim 속성으로 배열 차원을 확인합니다."
   ]
  },
  {
   "cell_type": "code",
   "execution_count": 6,
   "metadata": {
    "id": "FxXWyFPyx3P-",
    "scrolled": true
   },
   "outputs": [
    {
     "name": "stdout",
     "output_type": "stream",
     "text": [
      "1\n",
      "2\n",
      "3\n"
     ]
    }
   ],
   "source": [
    "# 차원 확인\n",
    "print(b1.ndim)\n",
    "print(b2.ndim)\n",
    "print(b3.ndim)"
   ]
  },
  {
   "cell_type": "markdown",
   "metadata": {
    "id": "hDchV5CI1vX4"
   },
   "source": [
    "**2) 형태(크기) 확인**\n",
    "\n",
    "- shape 속성으로 배열 형태를 확인합니다.\n",
    "- 결과는 다음과 같은 형태의 튜플로 표시됩니다.\n",
    "    - 1차원: (x, )\n",
    "    - 2차원: (x, y)\n",
    "    - 3차원: (x, y, z)\n",
    "- 앞에서 부터 axis 0, axis 1, axis 2의 크기를 의미합니다."
   ]
  },
  {
   "cell_type": "code",
   "execution_count": 7,
   "metadata": {
    "id": "_hQjcnXx1oZl",
    "scrolled": true
   },
   "outputs": [
    {
     "name": "stdout",
     "output_type": "stream",
     "text": [
      "(5,)\n",
      "(2, 3)\n",
      "(2, 3, 3)\n"
     ]
    }
   ],
   "source": [
    "# 형태(크기) 확인\n",
    "print(b1.shape) \n",
    "print(b2.shape) \n",
    "print(b3.shape) "
   ]
  },
  {
   "cell_type": "markdown",
   "metadata": {
    "id": "8jV7CzBY1yr_"
   },
   "source": [
    "**3) 요소 자료형 확인**\n",
    "\n",
    "- dtype 속성으로 배열에 포함된 요소들의 자료형을 확인합니다.\n",
    "- 배열은 한 가지 자료형만 가질 수 있다는 특징이 있습니다."
   ]
  },
  {
   "cell_type": "code",
   "execution_count": 8,
   "metadata": {
    "id": "Y96maPXA1olN",
    "scrolled": true
   },
   "outputs": [
    {
     "name": "stdout",
     "output_type": "stream",
     "text": [
      "int32\n",
      "float64\n",
      "int32\n"
     ]
    }
   ],
   "source": [
    "# 요소 자료형 형식 확인\n",
    "print(b1.dtype)\n",
    "print(b2.dtype)\n",
    "print(b3.dtype)"
   ]
  },
  {
   "cell_type": "markdown",
   "metadata": {
    "id": "O7V_CL-H6zRc"
   },
   "source": [
    "<img src='https://raw.githubusercontent.com/jangrae/img/master/practice_01.png' width=120 align=\"left\"/>"
   ]
  },
  {
   "cell_type": "markdown",
   "metadata": {
    "id": "lP-D4JwORo9w"
   },
   "source": [
    "[문1] numpy 라이브러리를 np 별칭을 주어 불러오세요."
   ]
  },
  {
   "cell_type": "code",
   "execution_count": 9,
   "metadata": {
    "id": "4kL9ztRaSJJj"
   },
   "outputs": [],
   "source": [
    "import numpy as np"
   ]
  },
  {
   "cell_type": "markdown",
   "metadata": {
    "id": "kUQxv1BpNlar"
   },
   "source": [
    "[문2] 다음에 주어진 데이터를 갖는 1차원 배열을 만든 후 ndim, shape, dtype을 확인해 보세요."
   ]
  },
  {
   "cell_type": "code",
   "execution_count": 10,
   "metadata": {
    "id": "9pACMW_t7CBN"
   },
   "outputs": [
    {
     "name": "stdout",
     "output_type": "stream",
     "text": [
      "[10 11 12 13 14 15]\n",
      "1\n",
      "int32\n",
      "(6,)\n"
     ]
    }
   ],
   "source": [
    "# 10, 11, 12, 13, 14, 15\n",
    "\n",
    "# 배열 만들기\n",
    "c1 = np.array([10, 11, 12, 13, 14, 15])\n",
    "\n",
    "# 확인\n",
    "print(c1)\n",
    "\n",
    "# 정보 확인\n",
    "print(c1.ndim)\n",
    "print(c1.dtype)\n",
    "print(c1.shape)\n"
   ]
  },
  {
   "cell_type": "markdown",
   "metadata": {
    "id": "YrBtd57cNpK4"
   },
   "source": [
    "[문3] 다음에 주어진 리스트를 요소로 갖는 2차원 배열을 만든 후 ndim, shape, dtype을 확인해 보세요"
   ]
  },
  {
   "cell_type": "code",
   "execution_count": 12,
   "metadata": {
    "id": "C9GwieJP8_Oe",
    "scrolled": true
   },
   "outputs": [
    {
     "name": "stdout",
     "output_type": "stream",
     "text": [
      "[[11 12 13 14]\n",
      " [15 16 17 18]\n",
      " [19 20 21 22]]\n",
      "2\n",
      "int32\n",
      "(3, 4)\n"
     ]
    }
   ],
   "source": [
    "a = [[11, 12, 13, 14], [15, 16, 17, 18], [19, 20, 21, 22]]\n",
    "\n",
    "# 배열 만들기\n",
    "c2 = np.array(a)\n",
    "\n",
    "# 확인\n",
    "print(c2)\n",
    "\n",
    "# 정보 확인\n",
    "print(c2.ndim)\n",
    "print(c2.dtype)\n",
    "print(c2.shape)"
   ]
  },
  {
   "cell_type": "code",
   "execution_count": 13,
   "metadata": {},
   "outputs": [
    {
     "name": "stdout",
     "output_type": "stream",
     "text": [
      "['1' 'a']\n",
      "<U11\n"
     ]
    }
   ],
   "source": [
    "a = np.array([1,'a'])\n",
    "print(a)\n",
    "print(a.dtype)"
   ]
  },
  {
   "cell_type": "markdown",
   "metadata": {
    "id": "T90fbLEsVqwV"
   },
   "source": [
    "#### 2.2.3.Reshape\n",
    "\n",
    "- 배열을 사용할 때 다양한 형태(Shape)로 변환할 필요가 있습니다.\n",
    "- 배열에 포함된 **요소가 사라지지 않는 형태**라면 자유롭게 변환할 수 있습니다.\n",
    "- (3, 4) → (2, 6) → (4, 3) → (12, 1) → (6, 2) 등등 요소 개수만 변하지 않으면 됩니다."
   ]
  },
  {
   "cell_type": "code",
   "execution_count": 14,
   "metadata": {
    "id": "75VTZ0vqVqwf"
   },
   "outputs": [
    {
     "name": "stdout",
     "output_type": "stream",
     "text": [
      "[[1 2 3]\n",
      " [4 5 6]]\n"
     ]
    }
   ],
   "source": [
    "# (2, 3) 형태의 2차원 배열 만들기\n",
    "a = np.array([[1, 2, 3], \n",
    "              [4, 5, 6]])\n",
    "\n",
    "# 확인\n",
    "print(a)"
   ]
  },
  {
   "cell_type": "markdown",
   "metadata": {
    "id": "foYfLnZaVqwf"
   },
   "source": [
    "**1) (2, 3) → (3, 2)**"
   ]
  },
  {
   "cell_type": "code",
   "execution_count": 15,
   "metadata": {
    "id": "4ZGXjZEKVqwj"
   },
   "outputs": [
    {
     "name": "stdout",
     "output_type": "stream",
     "text": [
      "[[1 2]\n",
      " [3 4]\n",
      " [5 6]]\n"
     ]
    }
   ],
   "source": [
    "# (3, 2) 형태의 2차원 배열로 Reshape\n",
    "b = a.reshape(3, 2)\n",
    "\n",
    "# 확인\n",
    "print(b)"
   ]
  },
  {
   "cell_type": "markdown",
   "metadata": {
    "id": "lDGU9KuXVqwk"
   },
   "source": [
    "**2) (2, 3) → (6,)**"
   ]
  },
  {
   "cell_type": "code",
   "execution_count": 16,
   "metadata": {
    "id": "2JY0g6WAVqwk"
   },
   "outputs": [
    {
     "name": "stdout",
     "output_type": "stream",
     "text": [
      "[1 2 3 4 5 6]\n"
     ]
    }
   ],
   "source": [
    "# 1차원 배열로 Reshape\n",
    "# c = a.reshape(6,)\n",
    "c = a.reshape(6)\n",
    "\n",
    "# 확인\n",
    "print(c)"
   ]
  },
  {
   "cell_type": "markdown",
   "metadata": {
    "id": "pzyFKxilVqwm"
   },
   "source": [
    "**3) -1의 편리성**\n",
    "\n",
    "- **(*m*, -1)** 또는 **(-1, *n*)** 처럼 사용해 행 또는 열 크기 한 쪽만 지정할 수 있습니다."
   ]
  },
  {
   "cell_type": "code",
   "execution_count": 17,
   "metadata": {
    "id": "rFyQiMDJVqwn"
   },
   "outputs": [
    {
     "name": "stdout",
     "output_type": "stream",
     "text": [
      "[[1 2 3]\n",
      " [4 5 6]]\n"
     ]
    }
   ],
   "source": [
    "# (2, 3) 형태의 2차원 배열 만들기\n",
    "a = np.array([[1, 2, 3], \n",
    "              [4, 5, 6]])\n",
    "\n",
    "# 확인\n",
    "print(a)"
   ]
  },
  {
   "cell_type": "code",
   "execution_count": 18,
   "metadata": {
    "id": "sCjMu_Dv3P7s"
   },
   "outputs": [
    {
     "name": "stdout",
     "output_type": "stream",
     "text": [
      "[[1 2 3 4 5 6]]\n",
      "\n",
      "[[1 2 3]\n",
      " [4 5 6]]\n",
      "\n",
      "[[1 2]\n",
      " [3 4]\n",
      " [5 6]]\n",
      "\n",
      "[[1]\n",
      " [2]\n",
      " [3]\n",
      " [4]\n",
      " [5]\n",
      " [6]]\n"
     ]
    }
   ],
   "source": [
    "# reshape(m, -1) 형태로 지정하여 Reshape 가능\n",
    "print(a.reshape(1, -1))\n",
    "print()\n",
    "\n",
    "print(a.reshape(2, -1))\n",
    "print()\n",
    "\n",
    "print(a.reshape(3, -1))\n",
    "print()\n",
    "\n",
    "#print(a.reshape(4, -1))\n",
    "#print(a.reshape(5, -1))\n",
    "\n",
    "print(a.reshape(6, -1))"
   ]
  },
  {
   "cell_type": "markdown",
   "metadata": {
    "id": "-hv9haY7DLyU"
   },
   "source": [
    "<img src='https://raw.githubusercontent.com/jangrae/img/master/practice_01.png' width=120 align=\"left\"/>"
   ]
  },
  {
   "cell_type": "markdown",
   "metadata": {
    "id": "rNl0nrGhN8Fn"
   },
   "source": [
    "[문1] 다음에 주어진 배열의 형태(shape)를 확인한 후 요구되는 형태로 바꿔 보세요."
   ]
  },
  {
   "cell_type": "code",
   "execution_count": 19,
   "metadata": {
    "id": "-fsZhQe8DLyf"
   },
   "outputs": [
    {
     "name": "stdout",
     "output_type": "stream",
     "text": [
      "(3, 4)\n",
      "[[11 12 13]\n",
      " [14 15 16]\n",
      " [17 18 19]\n",
      " [20 21 22]]\n",
      "[[11 12 13 14 15 16]\n",
      " [17 18 19 20 21 22]]\n"
     ]
    }
   ],
   "source": [
    "# 배열 만들기\n",
    "a = np.array([[11, 12, 13, 14], \n",
    "              [15, 16, 17, 18], \n",
    "              [19, 20, 21, 22]])\n",
    "\n",
    "# 배열 형태 확인\n",
    "print(a.shape)\n",
    "\n",
    "# (4, ?))형태의 2차원 배열\n",
    "print(a.reshape(4, -1))\n",
    "\n",
    "# (2, ?) 형태의 2차원 배열\n",
    "print(a.reshape(2, -1))"
   ]
  },
  {
   "cell_type": "markdown",
   "metadata": {
    "id": "HLZk_chQwf1e"
   },
   "source": [
    "### 2.3 [참조] 3차원 배열(이미지 데이터셋)\n",
    "\n",
    "* 보통 이미지 데이터는 3차원 배열로 구성하고 처리합니다.\n",
    "* 여기서는 3차원 배열 데이터를 간단히 만들고 내용을 살짝 조회해 보겠습니다."
   ]
  },
  {
   "cell_type": "code",
   "execution_count": 20,
   "metadata": {
    "id": "M2mFIIvt1IaN"
   },
   "outputs": [],
   "source": [
    "import matplotlib.pyplot as plt\n",
    "np.set_printoptions(linewidth=np.inf) "
   ]
  },
  {
   "cell_type": "code",
   "execution_count": 21,
   "metadata": {
    "id": "4R4MkmvvwnjJ"
   },
   "outputs": [],
   "source": [
    "# 데이터 가져와서 3차원으로 구성하기\n",
    "data = np.genfromtxt('https://raw.githubusercontent.com/DA4BAM/dataset/master/mnist_sample.csv', delimiter=',', skip_header = 1)\n",
    "d3 = data.reshape(-1,28,28)  # 28 * 28 데이터 n 개"
   ]
  },
  {
   "cell_type": "code",
   "execution_count": 22,
   "metadata": {},
   "outputs": [
    {
     "data": {
      "text/plain": [
       "(100, 28, 28)"
      ]
     },
     "execution_count": 22,
     "metadata": {},
     "output_type": "execute_result"
    }
   ],
   "source": [
    "d3.shape"
   ]
  },
  {
   "cell_type": "code",
   "execution_count": 25,
   "metadata": {
    "id": "Tp5-6O3x1U7E"
   },
   "outputs": [
    {
     "data": {
      "text/plain": [
       "array([[  0.,   0.,   0.,   0.,   0.,   0.,   0.,   0.,   0.,   0.,   0.,   0.,   0.,   0.,   0.,   0.,   0.,   0.,   0.,   0.,   0.,   0.,   0.,   0.,   0.,   0.,   0.,   0.],\n",
       "       [  0.,   0.,   0.,   0.,   0.,   0.,   0.,   0.,   0.,   0.,   0.,   0.,   0.,   0.,   0.,   0.,   0.,   0.,   0.,   0.,   0.,   0.,   0.,   0.,   0.,   0.,   0.,   0.],\n",
       "       [  0.,   0.,   0.,   0.,   0.,   0.,   0.,   0.,   0.,   0.,   0.,   0.,   0.,   0.,   0.,   0.,   0.,   0.,   0.,   0.,   0.,   0.,   0.,   0.,   0.,   0.,   0.,   0.],\n",
       "       [  0.,   0.,   0.,   0.,   0.,   0.,   0.,   0.,   0.,   0.,   0.,   0.,   0.,   0.,   0.,   0.,   0.,   0.,   0.,   0.,   0.,   0.,   0.,   0.,   0.,   0.,   0.,   0.],\n",
       "       [  0.,   0.,   0.,   0.,   0.,   0.,   0.,   0.,   0.,   0.,   0.,   0.,   0.,   0.,   0.,   0.,   0.,   0.,   0.,   0.,   0.,   0.,   0.,   0.,   0.,   0.,   0.,   0.],\n",
       "       [  0.,   0.,   0.,   0.,   0.,   0.,   0.,   0.,  92., 253., 141.,   0.,   0.,   0.,   0.,   0.,   0.,   0.,   0.,   0.,   0.,   0.,   0.,   0.,   0.,   0.,   0.,   0.],\n",
       "       [  0.,   0.,   0.,   0.,   0.,   0.,   0.,  19., 196., 252., 241.,  24.,   0.,   0.,   0.,   0.,   0.,   0.,   0.,   0., 147., 225.,  97.,   0.,   0.,   0.,   0.,   0.],\n",
       "       [  0.,   0.,   0.,   0.,   0.,   0.,   0.,  57., 252., 252., 253.,  27.,   0.,   0.,   0.,   0.,   0.,   0.,   0.,  32., 253., 252., 195.,   0.,   0.,   0.,   0.,   0.],\n",
       "       [  0.,   0.,   0.,   0.,   0.,   0.,   0.,  57., 252., 252., 178.,   9.,   0.,   0.,   0.,   0.,   0.,   0.,   0., 140., 253., 252., 102.,   0.,   0.,   0.,   0.,   0.],\n",
       "       [  0.,   0.,   0.,   0.,   0.,   0.,   0.,  57., 252., 252., 140.,   0.,   0.,   0.,   0.,   0.,   0.,   0.,  16., 203., 253., 252.,  55.,   0.,   0.,   0.,   0.,   0.],\n",
       "       [  0.,   0.,   0.,   0.,   0.,   0.,   0., 120., 253., 253., 141.,   0.,   0.,   0.,   0.,   0.,   0.,   0.,  29., 253., 255., 215.,  31.,   0.,   0.,   0.,   0.,   0.],\n",
       "       [  0.,   0.,   0.,   0.,   0.,   0.,   0., 197., 252., 252., 140.,   0.,   0.,   0.,   0.,   0.,   0.,   0.,  29., 252., 253.,  42.,   0.,   0.,   0.,   0.,   0.,   0.],\n",
       "       [  0.,   0.,   0.,   0.,   0.,   0.,   0., 197., 252., 252.,  31.,   0.,   0.,   0.,   0.,   0.,   0.,  13.,  79., 252., 253.,  27.,   0.,   0.,   0.,   0.,   0.,   0.],\n",
       "       [  0.,   0.,   0.,   0.,   0.,   0.,  57., 234., 252., 236.,   0.,   0.,   0.,   0.,   0.,   0.,   0.,  57., 252., 252., 178.,   9.,   0.,   0.,   0.,   0.,   0.,   0.],\n",
       "       [  0.,   0.,   0.,   0.,   0.,   0.,  85., 252., 252., 189., 141., 140., 140., 140., 140.,  79.,  48., 165., 252., 252., 140.,   0.,   0.,   0.,   0.,   0.,   0.,   0.],\n",
       "       [  0.,   0.,   0.,   0.,   0.,   0.,  86., 253., 253., 253., 255., 253., 253., 253., 253., 255., 253., 253., 253., 253., 141.,   0.,   0.,   0.,   0.,   0.,   0.,   0.],\n",
       "       [  0.,   0.,   0.,   0.,   0.,   0.,  57., 233., 252., 252., 253., 252., 252., 242., 214., 215., 243., 252., 252., 252., 140.,   0.,   0.,   0.,   0.,   0.,   0.,   0.],\n",
       "       [  0.,   0.,   0.,   0.,   0.,   0.,   0.,  75., 195., 195.,  56.,  55.,  55.,  49.,  31.,  31.,  50., 209., 252., 220.,  31.,   0.,   0.,   0.,   0.,   0.,   0.,   0.],\n",
       "       [  0.,   0.,   0.,   0.,   0.,   0.,   0.,   0.,   0.,   0.,   0.,   0.,   0.,   0.,   0.,   0.,  73., 234., 252., 112.,   0.,   0.,   0.,   0.,   0.,   0.,   0.,   0.],\n",
       "       [  0.,   0.,   0.,   0.,   0.,   0.,   0.,   0.,   0.,   0.,   0.,   0.,   0.,   0.,   0.,   0., 225., 252., 252., 112.,   0.,   0.,   0.,   0.,   0.,   0.,   0.,   0.],\n",
       "       [  0.,   0.,   0.,   0.,   0.,   0.,   0.,   0.,   0.,   0.,   0.,   0.,   0.,   0.,   0.,   0., 226., 253., 253., 112.,   0.,   0.,   0.,   0.,   0.,   0.,   0.,   0.],\n",
       "       [  0.,   0.,   0.,   0.,   0.,   0.,   0.,   0.,   0.,   0.,   0.,   0.,   0.,   0.,   0., 101., 249., 252., 242.,  74.,   0.,   0.,   0.,   0.,   0.,   0.,   0.,   0.],\n",
       "       [  0.,   0.,   0.,   0.,   0.,   0.,   0.,   0.,   0.,   0.,   0.,   0.,   0.,   0.,   0., 113., 252., 252., 246.,  88.,   0.,   0.,   0.,   0.,   0.,   0.,   0.,   0.],\n",
       "       [  0.,   0.,   0.,   0.,   0.,   0.,   0.,   0.,   0.,   0.,   0.,   0.,   0.,   0.,   0.,  38., 234., 252., 154.,  99.,   0.,   0.,   0.,   0.,   0.,   0.,   0.,   0.],\n",
       "       [  0.,   0.,   0.,   0.,   0.,   0.,   0.,   0.,   0.,   0.,   0.,   0.,   0.,   0.,   0.,   0., 146., 252.,  84.,   0.,   0.,   0.,   0.,   0.,   0.,   0.,   0.,   0.],\n",
       "       [  0.,   0.,   0.,   0.,   0.,   0.,   0.,   0.,   0.,   0.,   0.,   0.,   0.,   0.,   0.,   0.,   0.,   0.,   0.,   0.,   0.,   0.,   0.,   0.,   0.,   0.,   0.,   0.],\n",
       "       [  0.,   0.,   0.,   0.,   0.,   0.,   0.,   0.,   0.,   0.,   0.,   0.,   0.,   0.,   0.,   0.,   0.,   0.,   0.,   0.,   0.,   0.,   0.,   0.,   0.,   0.,   0.,   0.],\n",
       "       [  0.,   0.,   0.,   0.,   0.,   0.,   0.,   0.,   0.,   0.,   0.,   0.,   0.,   0.,   0.,   0.,   0.,   0.,   0.,   0.,   0.,   0.,   0.,   0.,   0.,   0.,   0.,   0.]])"
      ]
     },
     "metadata": {},
     "output_type": "display_data"
    },
    {
     "data": {
      "image/png": "[encoded data removed]",
      "text/plain": [
       "<Figure size 432x288 with 1 Axes>"
      ]
     },
     "metadata": {
      "needs_background": "light"
     },
     "output_type": "display_data"
    }
   ],
   "source": [
    "# 3차원 데이터에서 첫번째 인덱스로 2차원 데이터 조회해오기\n",
    "# 아래 숫자를 조정하며 확인해 봅시다.\n",
    "n = 56\n",
    "display(d3[n])\n",
    "\n",
    "plt.imshow(d3[n])\n",
    "plt.show()"
   ]
  },
  {
   "cell_type": "markdown",
   "metadata": {
    "id": "TeXXnBpvVqxn"
   },
   "source": [
    "## 3.배열 인덱싱과 슬라이싱\n",
    "\n",
    "- 지금까지 다룬 자료형들 보다 배열 인덱싱과 슬라이싱이 조금 어렵습니다."
   ]
  },
  {
   "cell_type": "markdown",
   "metadata": {
    "id": "a0bmoimPogx6"
   },
   "source": [
    "### 3.1.인덱싱\n",
    "\n",
    "- 1차원 배열은 리스트와 방법이 같으므로 설명을 생략합니다.\n",
    "- **배열[행, 열]** 형태로 특정 위치의 요소를 조회합니다.\n",
    "- **배열[[행1,행2,..], :]** 또는 **배열[[행1,행2,..]]** 형태로 특정 행을 조회합니다.\n",
    "- **배열[:, [열1,열2,...]]** 형태로 특정 열을 조회합니다.\n",
    "- **배열[[행1,행2,...], [열1,열2,...]]** 형태로 특정 행의 특정 열을 조회합니다."
   ]
  },
  {
   "cell_type": "markdown",
   "metadata": {
    "id": "Js4DL4PJTEGV"
   },
   "source": [
    "<img src='https://github.com/DA4BAM/image/blob/main/%EB%B0%B0%EC%97%B4%20%EC%8A%AC%EB%9D%BC%EC%9D%B4%EC%8B%B1.png?raw=true' width=800 align=\"left\"/>"
   ]
  },
  {
   "cell_type": "code",
   "execution_count": 26,
   "metadata": {
    "id": "3pEA6dweogyY",
    "scrolled": true
   },
   "outputs": [
    {
     "name": "stdout",
     "output_type": "stream",
     "text": [
      "[[1 2 3]\n",
      " [4 5 6]\n",
      " [7 8 9]]\n"
     ]
    }
   ],
   "source": [
    "# (3, 3) 형태의 2차원 배열 만들기\n",
    "a = np.array([[1, 2, 3],\n",
    "              [4, 5, 6], \n",
    "              [7, 8, 9]])\n",
    "\n",
    "# 확인\n",
    "print(a)             "
   ]
  },
  {
   "cell_type": "markdown",
   "metadata": {
    "id": "NkzltkO3D1Ce"
   },
   "source": [
    "**1) 요소 조회**"
   ]
  },
  {
   "cell_type": "code",
   "execution_count": 27,
   "metadata": {
    "id": "4o-IlSc_Vqx3",
    "scrolled": true
   },
   "outputs": [
    {
     "name": "stdout",
     "output_type": "stream",
     "text": [
      "2\n"
     ]
    }
   ],
   "source": [
    "# 첫 번째 행, 두 번째 열 요소 조회\n",
    "print(a[0, 1])"
   ]
  },
  {
   "cell_type": "markdown",
   "metadata": {
    "id": "8T6dhlVWD3kF"
   },
   "source": [
    "**2) 행 조회**"
   ]
  },
  {
   "cell_type": "code",
   "execution_count": 28,
   "metadata": {
    "id": "SVIgu5HIDwv-",
    "scrolled": true
   },
   "outputs": [
    {
     "name": "stdout",
     "output_type": "stream",
     "text": [
      "[[1 2 3]\n",
      " [4 5 6]]\n"
     ]
    }
   ],
   "source": [
    "# 첫 번째, 두 번째 행 조회\n",
    "# print(a[[0, 1], :])\n",
    "print(a[[0, 1]])"
   ]
  },
  {
   "cell_type": "code",
   "execution_count": 29,
   "metadata": {
    "id": "5zK4ZWKFChlL",
    "scrolled": true
   },
   "outputs": [
    {
     "name": "stdout",
     "output_type": "stream",
     "text": [
      "[[1 2 3]\n",
      " [4 5 6]\n",
      " [7 8 9]]\n"
     ]
    }
   ],
   "source": [
    "# 첫 번째, 두 번째, 세 번째 행 조회\n",
    "# print(a[[0, 1, 2], :])\n",
    "print(a[[0, 1, 2]])"
   ]
  },
  {
   "cell_type": "markdown",
   "metadata": {
    "id": "r4yxgfBaD9z0"
   },
   "source": [
    "**3) 열 조회**"
   ]
  },
  {
   "cell_type": "code",
   "execution_count": 30,
   "metadata": {
    "id": "nHwy3_ZbCeBf"
   },
   "outputs": [
    {
     "name": "stdout",
     "output_type": "stream",
     "text": [
      "[[1 2]\n",
      " [4 5]\n",
      " [7 8]]\n"
     ]
    }
   ],
   "source": [
    "# 첫 번째, 두 번째 열 조회\n",
    "print(a[:, [0, 1]]) # 행 인덱스 자리에 : 들어가 있으면 생략 안됨."
   ]
  },
  {
   "cell_type": "markdown",
   "metadata": {
    "id": "Qi3_faenVqx-"
   },
   "source": [
    "**4) 행, 열 조회**"
   ]
  },
  {
   "cell_type": "code",
   "execution_count": 31,
   "metadata": {
    "id": "48FLikidVqx-",
    "scrolled": true
   },
   "outputs": [
    {
     "name": "stdout",
     "output_type": "stream",
     "text": [
      "[[1 2 3]\n",
      " [4 5 6]\n",
      " [7 8 9]]\n"
     ]
    }
   ],
   "source": [
    "# 배열 확인\n",
    "print(a)"
   ]
  },
  {
   "cell_type": "code",
   "execution_count": 33,
   "metadata": {
    "id": "WtxlnFlzogzm"
   },
   "outputs": [
    {
     "name": "stdout",
     "output_type": "stream",
     "text": [
      "5\n",
      "[5]\n"
     ]
    }
   ],
   "source": [
    "# 두 번째 행 두 번째 열의 요소 조회\n",
    "print(a[1,1])\n",
    "print(a[[1], [1]])"
   ]
  },
  {
   "cell_type": "code",
   "execution_count": 34,
   "metadata": {
    "id": "NjWQiPULogzq"
   },
   "outputs": [
    {
     "name": "stdout",
     "output_type": "stream",
     "text": [
      "[8]\n"
     ]
    }
   ],
   "source": [
    "# 세 번째 행 두 번째 열의 요소 조회\n",
    "print(a[[2], [1]])"
   ]
  },
  {
   "cell_type": "code",
   "execution_count": 35,
   "metadata": {
    "id": "XMftV_T7Vqx_"
   },
   "outputs": [
    {
     "name": "stdout",
     "output_type": "stream",
     "text": [
      "[1 5]\n"
     ]
    }
   ],
   "source": [
    "# 첫 번째 행 첫 번째 열, 두 번째 행 두 번째 열의 요소 조회\n",
    "print(a[[0, 1], [0, 1]])"
   ]
  },
  {
   "cell_type": "code",
   "execution_count": 36,
   "metadata": {},
   "outputs": [
    {
     "data": {
      "text/plain": [
       "array([[1, 2, 3],\n",
       "       [4, 5, 6],\n",
       "       [7, 8, 9]])"
      ]
     },
     "execution_count": 36,
     "metadata": {},
     "output_type": "execute_result"
    }
   ],
   "source": [
    "a"
   ]
  },
  {
   "cell_type": "code",
   "execution_count": 37,
   "metadata": {
    "id": "yDtvGSsAogz1"
   },
   "outputs": [
    {
     "name": "stdout",
     "output_type": "stream",
     "text": [
      "[1 5 7]\n"
     ]
    }
   ],
   "source": [
    "# 첫 전째 행 첫 번째 열, 두 번째 행 두 번째 열, 세 번째 행 첫 번째 열의 요소 조회\n",
    "print(a[[0, 1, 2], [0, 1, 0]])"
   ]
  },
  {
   "cell_type": "markdown",
   "metadata": {
    "id": "miXBly1-ZCo0"
   },
   "source": [
    "<img src='https://raw.githubusercontent.com/jangrae/img/master/practice_01.png' width=120 align=\"left\"/>"
   ]
  },
  {
   "cell_type": "markdown",
   "metadata": {
    "id": "tfeIAacaZZlC"
   },
   "source": [
    "주어진 배열을 이용하여 다음 결과를 얻도록 문제를 푸시오."
   ]
  },
  {
   "cell_type": "code",
   "execution_count": 38,
   "metadata": {
    "id": "uiUrizyeZegu"
   },
   "outputs": [],
   "source": [
    "a = np.array([[11, 12, 13, 14], \n",
    "              [15, 16, 17, 18], \n",
    "              [19, 20, 21, 22]])"
   ]
  },
  {
   "cell_type": "markdown",
   "metadata": {
    "id": "U8NJpwB5ZCo3"
   },
   "source": [
    "[문1] 16"
   ]
  },
  {
   "cell_type": "code",
   "execution_count": 39,
   "metadata": {
    "id": "KztKvXfEZCo3"
   },
   "outputs": [
    {
     "data": {
      "text/plain": [
       "16"
      ]
     },
     "execution_count": 39,
     "metadata": {},
     "output_type": "execute_result"
    }
   ],
   "source": [
    "a[ 1 , 1 ]"
   ]
  },
  {
   "cell_type": "markdown",
   "metadata": {
    "id": "_Mhiw92dZy86"
   },
   "source": [
    "[문2] [19 20 21 22]"
   ]
  },
  {
   "cell_type": "code",
   "execution_count": 40,
   "metadata": {
    "id": "X_CyIjw_Zy86"
   },
   "outputs": [
    {
     "data": {
      "text/plain": [
       "array([19, 20, 21, 22])"
      ]
     },
     "execution_count": 40,
     "metadata": {},
     "output_type": "execute_result"
    }
   ],
   "source": [
    "# a[2, :]\n",
    "a[2]"
   ]
  },
  {
   "cell_type": "markdown",
   "metadata": {
    "id": "LS456jLGZzGY"
   },
   "source": [
    "[문3] [13  17  21]"
   ]
  },
  {
   "cell_type": "code",
   "execution_count": 42,
   "metadata": {},
   "outputs": [
    {
     "data": {
      "text/plain": [
       "array([[11, 12, 13, 14],\n",
       "       [15, 16, 17, 18],\n",
       "       [19, 20, 21, 22]])"
      ]
     },
     "execution_count": 42,
     "metadata": {},
     "output_type": "execute_result"
    }
   ],
   "source": [
    "a"
   ]
  },
  {
   "cell_type": "code",
   "execution_count": 41,
   "metadata": {
    "id": "W1qMjXVwZzGY"
   },
   "outputs": [
    {
     "data": {
      "text/plain": [
       "array([13, 17, 21])"
      ]
     },
     "execution_count": 41,
     "metadata": {},
     "output_type": "execute_result"
    }
   ],
   "source": [
    "a[:, 2]"
   ]
  },
  {
   "cell_type": "markdown",
   "metadata": {
    "id": "dcz13mCHaNjr"
   },
   "source": [
    "[문4] [16  22]"
   ]
  },
  {
   "cell_type": "code",
   "execution_count": 43,
   "metadata": {
    "id": "8WkPaSBeaNjr"
   },
   "outputs": [
    {
     "data": {
      "text/plain": [
       "array([16, 22])"
      ]
     },
     "execution_count": 43,
     "metadata": {},
     "output_type": "execute_result"
    }
   ],
   "source": [
    "a[[ 1, 2],[ 1,3]]"
   ]
  },
  {
   "cell_type": "markdown",
   "metadata": {
    "id": "VfJQXOS2ogz_"
   },
   "source": [
    "### 3.2.슬라이싱\n",
    "\n",
    "- **배열[행1:행N,열1:열N]** 형태로 지정해 그 위치의 요소를 조회합니다.\n",
    "- 조회 결과는 **2차원 배열**이 됩니다.\n",
    "- 마지막 **범위 값은 대상에 포함되지 않습니다.**\n",
    "- 즉, **배열[1:M, 2:N]**이라면 1 ~ M-1행, 2 ~ N-1열이 조회 대상이 됩니다."
   ]
  },
  {
   "cell_type": "markdown",
   "metadata": {
    "id": "GowHPPmqTSsG"
   },
   "source": [
    "<img src='https://github.com/DA4BAM/image/blob/main/%EB%B0%B0%EC%97%B4%20%EC%8A%AC%EB%9D%BC%EC%9D%B4%EC%8B%B12.png?raw=true' width=800 align=\"left\"/>"
   ]
  },
  {
   "cell_type": "code",
   "execution_count": 44,
   "metadata": {
    "id": "tQU7jXkMog0A",
    "scrolled": true
   },
   "outputs": [
    {
     "name": "stdout",
     "output_type": "stream",
     "text": [
      "[[1 2 3]\n",
      " [4 5 6]\n",
      " [7 8 9]]\n"
     ]
    }
   ],
   "source": [
    "# (3, 3) 형태의 2차원 배열 만들기\n",
    "a = np.array([[1, 2, 3],\n",
    "              [4, 5, 6], \n",
    "              [7, 8, 9]])\n",
    "\n",
    "# 확인\n",
    "print(a)             "
   ]
  },
  {
   "cell_type": "markdown",
   "metadata": {},
   "source": [
    "* 1:10 ==> 1부터 10 전까지 ( 1<=   < 10)"
   ]
  },
  {
   "cell_type": "code",
   "execution_count": 45,
   "metadata": {
    "id": "GQpT2IsVog0F"
   },
   "outputs": [
    {
     "name": "stdout",
     "output_type": "stream",
     "text": [
      "[[1 2 3]\n",
      " [4 5 6]]\n"
     ]
    }
   ],
   "source": [
    "# 첫 번째 ~ 두 번째 행 조회\n",
    "# print(a[0:2, :])\n",
    "print(a[0:2])"
   ]
  },
  {
   "cell_type": "code",
   "execution_count": 46,
   "metadata": {
    "id": "IoYezZTJog0L"
   },
   "outputs": [
    {
     "name": "stdout",
     "output_type": "stream",
     "text": [
      "[1 2]\n"
     ]
    }
   ],
   "source": [
    "# 첫 번째 행, 첫 번째 ~ 두 번째 열 조회\n",
    "print(a[0, 0:2])"
   ]
  },
  {
   "cell_type": "code",
   "execution_count": 47,
   "metadata": {},
   "outputs": [
    {
     "data": {
      "text/plain": [
       "array([[1, 2, 3],\n",
       "       [4, 5, 6],\n",
       "       [7, 8, 9]])"
      ]
     },
     "execution_count": 47,
     "metadata": {},
     "output_type": "execute_result"
    }
   ],
   "source": [
    "a"
   ]
  },
  {
   "cell_type": "code",
   "execution_count": 50,
   "metadata": {
    "id": "R7qsvTfdog0R"
   },
   "outputs": [
    {
     "name": "stdout",
     "output_type": "stream",
     "text": [
      "[[2 3]\n",
      " [5 6]\n",
      " [8 9]]\n"
     ]
    }
   ],
   "source": [
    "# 첫 번째 ~ 세 번째 행, 두 번째 ~ 세 번째 열 조회\n",
    "print(a[0:3, 1:3])"
   ]
  },
  {
   "cell_type": "code",
   "execution_count": 51,
   "metadata": {
    "id": "yyMWRXs6og0V"
   },
   "outputs": [
    {
     "name": "stdout",
     "output_type": "stream",
     "text": [
      "[[5 6]\n",
      " [8 9]]\n"
     ]
    }
   ],
   "source": [
    "# 두 번째 ~ 끝 행, 두 번째 ~ 끝 열 조회\n",
    "print(a[1:, 1:])"
   ]
  },
  {
   "cell_type": "markdown",
   "metadata": {
    "id": "66AGlY9wbB0H"
   },
   "source": [
    "<img src='https://raw.githubusercontent.com/jangrae/img/master/practice_01.png' width=120 align=\"left\"/>"
   ]
  },
  {
   "cell_type": "markdown",
   "metadata": {
    "id": "Q5kb2Iy4bB0K"
   },
   "source": [
    "주어진 배열을 이용하여 다음 결과를 얻도록 문제를 푸시오."
   ]
  },
  {
   "cell_type": "code",
   "execution_count": 52,
   "metadata": {
    "id": "EDTQRLqPbB0K"
   },
   "outputs": [],
   "source": [
    "a = np.array([[11, 12, 13, 14], \n",
    "              [15, 16, 17, 18], \n",
    "              [19, 20, 21, 22]])"
   ]
  },
  {
   "cell_type": "markdown",
   "metadata": {
    "id": "59cY-eRAaNo6"
   },
   "source": [
    "[문1]   \n",
    "\n",
    "[[12  \n",
    "16  \n",
    "20]]"
   ]
  },
  {
   "cell_type": "code",
   "execution_count": 55,
   "metadata": {
    "id": "BXJsb8JgaNo8"
   },
   "outputs": [
    {
     "name": "stdout",
     "output_type": "stream",
     "text": [
      "[12 16 20]\n",
      "[[12]\n",
      " [16]\n",
      " [20]]\n",
      "[[12]\n",
      " [16]\n",
      " [20]]\n"
     ]
    }
   ],
   "source": [
    "print(a[ : , 1])\n",
    "print(a[ : , 1:2])\n",
    "print(a[:, [1]])"
   ]
  },
  {
   "cell_type": "markdown",
   "metadata": {
    "id": "6wsvsW0gaNtv"
   },
   "source": [
    "[문2] \n",
    "\n",
    "[[16  17  \n",
    " 20  21]]"
   ]
  },
  {
   "cell_type": "code",
   "execution_count": 54,
   "metadata": {
    "id": "IMbxCJHwaNtw"
   },
   "outputs": [
    {
     "name": "stdout",
     "output_type": "stream",
     "text": [
      "[[16 17]\n",
      " [20 21]]\n"
     ]
    }
   ],
   "source": [
    "print(a[1: , 1:3 ])"
   ]
  },
  {
   "cell_type": "markdown",
   "metadata": {
    "id": "XTXtDcxxVqxo"
   },
   "source": [
    "### 3.3.조건 조회\n",
    "\n",
    "- **조건에 맞는 요소를 선택**하는 방식이며, **불리안 방식**이라고 부릅니다.\n",
    "- 조회 결과는 **1차원 배열**이 됩니다."
   ]
  },
  {
   "cell_type": "code",
   "execution_count": 56,
   "metadata": {
    "id": "3gZ8CZCSVqxs",
    "scrolled": true
   },
   "outputs": [
    {
     "name": "stdout",
     "output_type": "stream",
     "text": [
      "[[78 91 84 89 93 65]\n",
      " [82 87 96 79 91 73]]\n"
     ]
    }
   ],
   "source": [
    "# 2차원 배열 만들기\n",
    "score= np.array([[78, 91, 84, 89, 93, 65],\n",
    "                 [82, 87, 96, 79, 91, 73]])\n",
    "\n",
    "# 확인\n",
    "print(score)"
   ]
  },
  {
   "cell_type": "markdown",
   "metadata": {
    "id": "MCGU0pTdG5Dk"
   },
   "source": [
    "- **배열[조건]** 형태로 해당 조건에 맞는 요소만 조회합니다."
   ]
  },
  {
   "cell_type": "code",
   "execution_count": 57,
   "metadata": {},
   "outputs": [
    {
     "data": {
      "text/plain": [
       "array([[False,  True, False, False,  True, False],\n",
       "       [False, False,  True, False,  True, False]])"
      ]
     },
     "execution_count": 57,
     "metadata": {},
     "output_type": "execute_result"
    }
   ],
   "source": [
    "# 조건문 : 결과는 True, False\n",
    "score >= 90"
   ]
  },
  {
   "cell_type": "code",
   "execution_count": 58,
   "metadata": {
    "id": "FvhaimHaog1b",
    "scrolled": true
   },
   "outputs": [
    {
     "name": "stdout",
     "output_type": "stream",
     "text": [
      "[91 93 96 91]\n"
     ]
    }
   ],
   "source": [
    "# 요소 중에서 90 이상인 것만 조회\n",
    "print(score[score >= 90])"
   ]
  },
  {
   "cell_type": "markdown",
   "metadata": {
    "id": "6og_Q2FFH4bm"
   },
   "source": [
    "- 검색 조건을 변수로 선언해 사용할 수 있습니다."
   ]
  },
  {
   "cell_type": "code",
   "execution_count": 59,
   "metadata": {
    "id": "FAIsSW3qog1Q",
    "scrolled": true
   },
   "outputs": [
    {
     "name": "stdout",
     "output_type": "stream",
     "text": [
      "[91 93 96 91]\n"
     ]
    }
   ],
   "source": [
    "# 요소 중에서 90 이상인 것만 조회\n",
    "condition = score >= 90\n",
    "print(score[condition])"
   ]
  },
  {
   "cell_type": "markdown",
   "metadata": {
    "id": "MNpMhuYd9Cgq"
   },
   "source": [
    "- 여러 조건을 **&** 와 **|** 로 연결하여 조회할 수 있습니다."
   ]
  },
  {
   "cell_type": "code",
   "execution_count": 62,
   "metadata": {
    "id": "VnpEJYUEog1j"
   },
   "outputs": [
    {
     "name": "stdout",
     "output_type": "stream",
     "text": [
      "[91 93 91]\n"
     ]
    }
   ],
   "source": [
    "# 모든 요소 중에서 90 이상 95 미만인 것만 조회\n",
    "# 조건을 여러개 엮을 때에는, 조건마다 () 묶어 줘야 한다.\n",
    "print(score[(score >= 90) & (score < 95)])"
   ]
  },
  {
   "cell_type": "markdown",
   "metadata": {
    "id": "V4SYoejWog1n"
   },
   "source": [
    "<img src='https://raw.githubusercontent.com/jangrae/img/master/practice_01.png' width=120 align = \"left\"/>"
   ]
  },
  {
   "cell_type": "code",
   "execution_count": 61,
   "metadata": {
    "id": "QOp675xbUwMb"
   },
   "outputs": [],
   "source": [
    "score = np.array([[78, 91, 84, 89, 93, 65],\n",
    "                 [82, 87, 96, 79, 91, 73]])"
   ]
  },
  {
   "cell_type": "markdown",
   "metadata": {
    "id": "gVnNqLBmog1o"
   },
   "source": [
    "[문1] score에서 80 미만의 데이터만 추출하시오."
   ]
  },
  {
   "cell_type": "code",
   "execution_count": 63,
   "metadata": {
    "id": "ITbDD6DEdcoy"
   },
   "outputs": [
    {
     "data": {
      "text/plain": [
       "array([78, 65, 79, 73])"
      ]
     },
     "execution_count": 63,
     "metadata": {},
     "output_type": "execute_result"
    }
   ],
   "source": [
    "score[score < 80]"
   ]
  },
  {
   "cell_type": "markdown",
   "metadata": {
    "id": "HXO74OiLbLEj"
   },
   "source": [
    "[문2] score에서 짝수만 추출해 보세요."
   ]
  },
  {
   "cell_type": "code",
   "execution_count": 65,
   "metadata": {
    "id": "gCWnygNMbLEk"
   },
   "outputs": [
    {
     "data": {
      "text/plain": [
       "array([78, 84, 82, 96])"
      ]
     },
     "execution_count": 65,
     "metadata": {},
     "output_type": "execute_result"
    }
   ],
   "source": [
    "score[score % 2 == 0]"
   ]
  },
  {
   "cell_type": "markdown",
   "metadata": {
    "id": "1E9DkwINVqy2"
   },
   "source": [
    "## 4.배열 연산\n",
    "\n",
    "- 배열 사이의 더하기, 빼기, 곱하기, 나누기 등은 이해하기 쉽습니다.\n",
    "- 하지만 행렬 곱, 행렬 합등의 연산은 악갼의 수학적 지식이 필요합니다.\n",
    "- 행렬 연산은 선형 대수를 위한 것이므로 설명을 생략합니다."
   ]
  },
  {
   "cell_type": "markdown",
   "metadata": {
    "id": "EJiJ8zNzTybz"
   },
   "source": [
    "<img src='https://github.com/DA4BAM/image/blob/main/%EB%B0%B0%EC%97%B4%EC%97%B0%EC%82%B0.png?raw=true' width=600 align=\"left\"/>"
   ]
  },
  {
   "cell_type": "code",
   "execution_count": 66,
   "metadata": {
    "id": "c1XI1tZqVqy3"
   },
   "outputs": [
    {
     "name": "stdout",
     "output_type": "stream",
     "text": [
      "[[1 2]\n",
      " [3 4]]\n",
      "[[5 6]\n",
      " [7 8]]\n"
     ]
    }
   ],
   "source": [
    "# 두 개의 (2, 2) 형태의 2차원 배열 만들기\n",
    "x = np.array([[1, 2], [3, 4]])\n",
    "y = np.array([[5, 6], [7, 8]])\n",
    "\n",
    "# 확인\n",
    "print(x)\n",
    "print(y)"
   ]
  },
  {
   "cell_type": "markdown",
   "metadata": {
    "id": "E-ekP4S5uWQE"
   },
   "source": [
    "**1) 배열 더하기**\n",
    "\n",
    "- \\+ 또는 **np.add()** 함수를 사용합니다."
   ]
  },
  {
   "cell_type": "code",
   "execution_count": 67,
   "metadata": {
    "id": "Wqiwa0LSVqy4"
   },
   "outputs": [
    {
     "name": "stdout",
     "output_type": "stream",
     "text": [
      "[[ 6  8]\n",
      " [10 12]]\n",
      "[[ 6  8]\n",
      " [10 12]]\n"
     ]
    }
   ],
   "source": [
    "# 배열 더하기\n",
    "print(x + y)\n",
    "\n",
    "# 또는\n",
    "print(np.add(x, y))"
   ]
  },
  {
   "cell_type": "markdown",
   "metadata": {
    "id": "00AMA90ouj59"
   },
   "source": [
    "**2) 배열 빼기**\n",
    "\n",
    "- \\- 또는 **np.subtract()** 함수를 사용합니다."
   ]
  },
  {
   "cell_type": "code",
   "execution_count": 68,
   "metadata": {
    "id": "1y0US63EVqy5"
   },
   "outputs": [
    {
     "name": "stdout",
     "output_type": "stream",
     "text": [
      "[[-4 -4]\n",
      " [-4 -4]]\n",
      "[[-4 -4]\n",
      " [-4 -4]]\n"
     ]
    }
   ],
   "source": [
    "# 배열 빼기\n",
    "print(x - y)\n",
    "\n",
    "# 또는\n",
    "print(np.subtract(x, y))"
   ]
  },
  {
   "cell_type": "markdown",
   "metadata": {
    "id": "xxXkVAzNuZ6n"
   },
   "source": [
    "**3) 배열 곱하기**\n",
    "\n",
    "- \\* 또는 **np.multiply()** 함수를 사용합니다."
   ]
  },
  {
   "cell_type": "code",
   "execution_count": 69,
   "metadata": {
    "id": "b6Vbf3qDVqy6"
   },
   "outputs": [
    {
     "name": "stdout",
     "output_type": "stream",
     "text": [
      "[[ 5 12]\n",
      " [21 32]]\n",
      "[[ 5 12]\n",
      " [21 32]]\n"
     ]
    }
   ],
   "source": [
    "# 배열 곱하기\n",
    "print(x * y)\n",
    "\n",
    "# 또는\n",
    "print(np.multiply(x, y))"
   ]
  },
  {
   "cell_type": "markdown",
   "metadata": {
    "id": "bB_Gr_AHucL4"
   },
   "source": [
    "**4) 배열 나누기**\n",
    "\n",
    "- \\/ 또는 **np.divide()** 함수를 사용합니다."
   ]
  },
  {
   "cell_type": "code",
   "execution_count": 70,
   "metadata": {
    "id": "bRTZEgBLVqy6"
   },
   "outputs": [
    {
     "name": "stdout",
     "output_type": "stream",
     "text": [
      "[[0.2        0.33333333]\n",
      " [0.42857143 0.5       ]]\n",
      "[[0.2        0.33333333]\n",
      " [0.42857143 0.5       ]]\n"
     ]
    }
   ],
   "source": [
    "# 배열 나누기\n",
    "print(x / y)\n",
    "\n",
    "# 또는\n",
    "print(np.divide(x, y))"
   ]
  },
  {
   "cell_type": "markdown",
   "metadata": {
    "id": "lx7YMmtBueZB"
   },
   "source": [
    "**5) 배열 제곱**\n",
    "\n",
    "- \\** 또는 **np.power()** 함수를 사용합니다."
   ]
  },
  {
   "cell_type": "code",
   "execution_count": 71,
   "metadata": {
    "id": "btaO6o1dVqy7"
   },
   "outputs": [
    {
     "name": "stdout",
     "output_type": "stream",
     "text": [
      "[[    1    64]\n",
      " [ 2187 65536]]\n",
      "[[    1    64]\n",
      " [ 2187 65536]]\n"
     ]
    }
   ],
   "source": [
    "# 배열 y 제곱\n",
    "print(x ** y)\n",
    "\n",
    "# 또는\n",
    "print(np.power(x, y))"
   ]
  },
  {
   "cell_type": "code",
   "execution_count": 72,
   "metadata": {},
   "outputs": [
    {
     "data": {
      "text/plain": [
       "array([[1, 2],\n",
       "       [3, 4]])"
      ]
     },
     "execution_count": 72,
     "metadata": {},
     "output_type": "execute_result"
    }
   ],
   "source": [
    "x"
   ]
  },
  {
   "cell_type": "code",
   "execution_count": 73,
   "metadata": {
    "id": "PgmwzPNv-AQl"
   },
   "outputs": [
    {
     "name": "stdout",
     "output_type": "stream",
     "text": [
      "[[ 1  4]\n",
      " [ 9 16]]\n"
     ]
    }
   ],
   "source": [
    "# 배열 제곱\n",
    "print(x ** 2)"
   ]
  },
  {
   "cell_type": "markdown",
   "metadata": {
    "id": "Nhz7m_iXu3bF"
   },
   "source": [
    "**6) 배열 집계**\n",
    "\n",
    "- np.sum(), 혹은 array.sum()\n",
    "    * axis = 0 : 열 기준 집계\n",
    "    * axis = 1 : 행 기준 집계\n",
    "    * 생략하면 : 전체 집계\n",
    "- 동일한 형태로 사용 가능한 함수 : np.max(), np.min, np.mean(), np.std()"
   ]
  },
  {
   "cell_type": "code",
   "execution_count": 74,
   "metadata": {
    "id": "AL09SXqIva6h"
   },
   "outputs": [
    {
     "name": "stdout",
     "output_type": "stream",
     "text": [
      "[[1 5 7]\n",
      " [2 3 8]]\n"
     ]
    }
   ],
   "source": [
    "# array를 생성합니다.\n",
    "a = np.array([[1,5,7],[2,3,8]])\n",
    "print(a)"
   ]
  },
  {
   "cell_type": "code",
   "execution_count": 75,
   "metadata": {
    "id": "Z7n5jBiku3bG"
   },
   "outputs": [
    {
     "name": "stdout",
     "output_type": "stream",
     "text": [
      "26\n",
      "[ 3  8 15]\n",
      "[13 13]\n"
     ]
    }
   ],
   "source": [
    "# 전체 집계\n",
    "print(np.sum(a))\n",
    "\n",
    "# 열기준 집계\n",
    "print(np.sum(a, axis = 0))\n",
    "\n",
    "# 행기준 집계\n",
    "print(np.sum(a, axis = 1))"
   ]
  },
  {
   "cell_type": "markdown",
   "metadata": {
    "id": "f3_4wNeOFCCt"
   },
   "source": [
    "* 추가로, np.argmax(), np.argmin() 도 있습니다. "
   ]
  },
  {
   "cell_type": "markdown",
   "metadata": {
    "id": "sum-br9WT0U6"
   },
   "source": [
    "<img src='https://github.com/DA4BAM/image/blob/main/%EB%B0%B0%EC%97%B4_argmin.png?raw=true' width=800 align=\"left\"/>"
   ]
  },
  {
   "cell_type": "code",
   "execution_count": 76,
   "metadata": {
    "id": "89tDTqanFH4x"
   },
   "outputs": [
    {
     "name": "stdout",
     "output_type": "stream",
     "text": [
      "[[1 5 7]\n",
      " [2 3 8]]\n",
      "5\n",
      "[1 0 1]\n",
      "[2 2]\n"
     ]
    }
   ],
   "source": [
    "print(a)\n",
    "# 전체 중에서 가장 큰 값의 인덱스\n",
    "print(np.argmax(a))\n",
    "\n",
    "# 행 방향 최대값의 인덱스\n",
    "print(np.argmax(a, axis = 0))\n",
    "\n",
    "# 열 방향 최대값의 인덱스\n",
    "print(np.argmax(a, axis = 1))\n"
   ]
  },
  {
   "cell_type": "markdown",
   "metadata": {},
   "source": [
    "* np.where(조건문, 참일때 값, 거짓일때 값)"
   ]
  },
  {
   "cell_type": "code",
   "execution_count": 80,
   "metadata": {},
   "outputs": [
    {
     "data": {
      "text/plain": [
       "array([[1, 1, 1],\n",
       "       [2, 3, 1]])"
      ]
     },
     "execution_count": 80,
     "metadata": {},
     "output_type": "execute_result"
    }
   ],
   "source": [
    "np.where(a>3, 1, 0)"
   ]
  },
  {
   "cell_type": "code",
   "execution_count": null,
   "metadata": {},
   "outputs": [],
   "source": [
    "# 참일때는 1, 거짓일때는 값 그대로\n",
    "np.where(a>3, 1, a)"
   ]
  },
  {
   "cell_type": "markdown",
   "metadata": {},
   "source": [
    "* np.linspace(시작값, 끝값, 사이 값 갯수)"
   ]
  },
  {
   "cell_type": "code",
   "execution_count": 81,
   "metadata": {},
   "outputs": [
    {
     "data": {
      "text/plain": [
       "[1, 3, 5, 7, 9]"
      ]
     },
     "execution_count": 81,
     "metadata": {},
     "output_type": "execute_result"
    }
   ],
   "source": [
    "# range(1,10,2)\n",
    "list(range(1,10,2))"
   ]
  },
  {
   "cell_type": "code",
   "execution_count": 82,
   "metadata": {},
   "outputs": [
    {
     "data": {
      "text/plain": [
       "array([ 0.1,  0.2,  0.3,  0.4,  0.5,  0.6,  0.7,  0.8,  0.9,  1. ,  1.1,  1.2,  1.3,  1.4,  1.5,  1.6,  1.7,  1.8,  1.9,  2. ,  2.1,  2.2,  2.3,  2.4,  2.5,  2.6,  2.7,  2.8,  2.9,  3. ,  3.1,  3.2,  3.3,  3.4,  3.5,  3.6,  3.7,  3.8,  3.9,  4. ,  4.1,  4.2,  4.3,  4.4,  4.5,  4.6,  4.7,  4.8,  4.9,  5. ,  5.1,  5.2,  5.3,  5.4,  5.5,  5.6,  5.7,  5.8,  5.9,  6. ,  6.1,  6.2,  6.3,  6.4,  6.5,  6.6,  6.7,  6.8,  6.9,  7. ,  7.1,  7.2,  7.3,  7.4,  7.5,  7.6,  7.7,  7.8,  7.9,  8. ,  8.1,  8.2,  8.3,  8.4,  8.5,  8.6,  8.7,  8.8,  8.9,  9. ,  9.1,  9.2,  9.3,  9.4,  9.5,  9.6,  9.7,  9.8,  9.9, 10. ])"
      ]
     },
     "execution_count": 82,
     "metadata": {},
     "output_type": "execute_result"
    }
   ],
   "source": [
    "# 0.1 ~ 10, 100개 값을 만들어 봅시다.\n",
    "np.linspace(0.1, 10, 100)"
   ]
  },
  {
   "cell_type": "markdown",
   "metadata": {
    "id": "4gg5DDvrPI2v"
   },
   "source": [
    "## 5.종합실습"
   ]
  },
  {
   "cell_type": "markdown",
   "metadata": {
    "id": "sh0fGNc7VqxY"
   },
   "source": [
    "1) numpy 라이브러리를 np 별칭을 주어 불러오세요."
   ]
  },
  {
   "cell_type": "code",
   "execution_count": 83,
   "metadata": {
    "id": "An8AOG0LPO3f"
   },
   "outputs": [],
   "source": [
    "# 라이브러리 불러오기\n",
    "import numpy as np"
   ]
  },
  {
   "cell_type": "markdown",
   "metadata": {
    "id": "n4iZv88GVqye"
   },
   "source": [
    "2) 다음 형태를 갖는 2차원 배열을 만들어 np_arr 변수로 선언하세요."
   ]
  },
  {
   "cell_type": "code",
   "execution_count": 84,
   "metadata": {
    "id": "ieJ4z0qcEWK5"
   },
   "outputs": [
    {
     "data": {
      "text/plain": [
       "array([[ 1,  2,  3],\n",
       "       [ 4,  5,  6],\n",
       "       [ 7,  8,  9],\n",
       "       [10, 11, 12]])"
      ]
     },
     "execution_count": 84,
     "metadata": {},
     "output_type": "execute_result"
    }
   ],
   "source": [
    "# [[  1  2  3]\n",
    "#  [  4  5  6]\n",
    "#  [  7  8  9]\n",
    "#  [ 10 11 12]]\n",
    "\n",
    "np_arr = np.array([[  1, 2,  3], [4, 5, 6], [7, 8, 9], [10, 11, 12]])\n",
    "np_arr\n"
   ]
  },
  {
   "cell_type": "markdown",
   "metadata": {
    "id": "06rhCgTeVqxb"
   },
   "source": [
    "3) shape 속성을 사용해 np_arr 배열의 행과 열의 크기를 확인하세요."
   ]
  },
  {
   "cell_type": "code",
   "execution_count": 85,
   "metadata": {
    "id": "zzhPeZH_Vqxd"
   },
   "outputs": [
    {
     "data": {
      "text/plain": [
       "(4, 3)"
      ]
     },
     "execution_count": 85,
     "metadata": {},
     "output_type": "execute_result"
    }
   ],
   "source": [
    "np_arr.shape"
   ]
  },
  {
   "cell_type": "markdown",
   "metadata": {
    "id": "wMUQ2lITVqxg"
   },
   "source": [
    "4) np_arr 배열을 아래 주어진 3 X 4 형태의 배열로 바꿔서 np_02 배열로 선언하고 확인하세요."
   ]
  },
  {
   "cell_type": "code",
   "execution_count": 88,
   "metadata": {
    "id": "pqHytlceVqxh"
   },
   "outputs": [
    {
     "data": {
      "text/plain": [
       "array([[ 1,  2,  3,  4],\n",
       "       [ 5,  6,  7,  8],\n",
       "       [ 9, 10, 11, 12]])"
      ]
     },
     "execution_count": 88,
     "metadata": {},
     "output_type": "execute_result"
    }
   ],
   "source": [
    "np_02 = np_arr.reshape(3,4)\n",
    "np_02"
   ]
  },
  {
   "cell_type": "markdown",
   "metadata": {
    "id": "q9SfCez6Vqyg"
   },
   "source": [
    "5) np_arr 배열의 세 번째 행의 요소들을 조회하세요."
   ]
  },
  {
   "cell_type": "code",
   "execution_count": 89,
   "metadata": {
    "id": "CaiDEar-Vqyh"
   },
   "outputs": [
    {
     "data": {
      "text/plain": [
       "array([7, 8, 9])"
      ]
     },
     "execution_count": 89,
     "metadata": {},
     "output_type": "execute_result"
    }
   ],
   "source": [
    "np_arr[2]"
   ]
  },
  {
   "cell_type": "markdown",
   "metadata": {
    "id": "16jhLlJvY0rJ"
   },
   "source": [
    "6) np_arr 배열의 모든 요소에 10을 곱한 결과를 조회하세요."
   ]
  },
  {
   "cell_type": "code",
   "execution_count": 90,
   "metadata": {
    "id": "5W4FHMArYR0S"
   },
   "outputs": [
    {
     "data": {
      "text/plain": [
       "array([[ 10,  20,  30],\n",
       "       [ 40,  50,  60],\n",
       "       [ 70,  80,  90],\n",
       "       [100, 110, 120]])"
      ]
     },
     "execution_count": 90,
     "metadata": {},
     "output_type": "execute_result"
    }
   ],
   "source": [
    "np_arr * 10"
   ]
  },
  {
   "cell_type": "markdown",
   "metadata": {
    "id": "X45yk5LZVqym"
   },
   "source": [
    "7) 아래의 출력문이 어떤 값을 출력할 지 추측한 후에 결과를 확인하세요.  \n",
    "[ 8  9 10 11 12]"
   ]
  },
  {
   "cell_type": "code",
   "execution_count": 93,
   "metadata": {
    "id": "pVQWrcdmVqym"
   },
   "outputs": [
    {
     "data": {
      "text/plain": [
       "array([ 8,  9, 10, 11, 12])"
      ]
     },
     "execution_count": 93,
     "metadata": {},
     "output_type": "execute_result"
    }
   ],
   "source": [
    "np_arr[np_arr > 7]"
   ]
  },
  {
   "cell_type": "markdown",
   "metadata": {
    "id": "qC3n0a_QVqyn"
   },
   "source": [
    "8) 7번 실습에서 선택된 요소들의 값만 각각 2배로 만드세요.\n",
    "2배로 업데이트 해라."
   ]
  },
  {
   "cell_type": "code",
   "execution_count": 96,
   "metadata": {
    "id": "0vKV9devVqyn"
   },
   "outputs": [
    {
     "data": {
      "text/plain": [
       "array([[ 1,  2,  3],\n",
       "       [ 4,  5,  6],\n",
       "       [ 7, 16, 18],\n",
       "       [20, 22, 24]])"
      ]
     },
     "execution_count": 96,
     "metadata": {},
     "output_type": "execute_result"
    }
   ],
   "source": [
    "np_arr[np_arr > 7] = np_arr[np_arr > 7] * 2"
   ]
  },
  {
   "cell_type": "code",
   "execution_count": 98,
   "metadata": {},
   "outputs": [
    {
     "data": {
      "text/plain": [
       "2"
      ]
     },
     "execution_count": 98,
     "metadata": {},
     "output_type": "execute_result"
    }
   ],
   "source": [
    "a = 1\n",
    "a += 1  \n",
    "a"
   ]
  },
  {
   "cell_type": "code",
   "execution_count": null,
   "metadata": {},
   "outputs": [],
   "source": [
    "np_arr[np_arr > 7] = np_arr[np_arr > 7] * 2"
   ]
  },
  {
   "cell_type": "code",
   "execution_count": null,
   "metadata": {},
   "outputs": [],
   "source": [
    "np_arr[np_arr > 7] *= 2"
   ]
  },
  {
   "cell_type": "code",
   "execution_count": null,
   "metadata": {},
   "outputs": [],
   "source": [
    "np.where(np_arr>=8, np_arr*2, np_arr) "
   ]
  },
  {
   "cell_type": "markdown",
   "metadata": {
    "id": "4NnPXEuPVqyo"
   },
   "source": [
    "9) np_arr 배열의 값을 조회해서 변경된 내용을 확인해 보세요."
   ]
  },
  {
   "cell_type": "code",
   "execution_count": 97,
   "metadata": {
    "id": "PL3oFfdeVqyo"
   },
   "outputs": [
    {
     "data": {
      "text/plain": [
       "array([[ 1,  2,  3],\n",
       "       [ 4,  5,  6],\n",
       "       [ 7, 16, 18],\n",
       "       [20, 22, 24]])"
      ]
     },
     "execution_count": 97,
     "metadata": {},
     "output_type": "execute_result"
    }
   ],
   "source": [
    "np_arr"
   ]
  },
  {
   "cell_type": "markdown",
   "metadata": {
    "id": "mt7JHQA_oTfS"
   },
   "source": [
    "10) np_arr 배열의 요소들 중에서 3의 배수는 1, 아니면 0인 배열을 만들고 조회하시오."
   ]
  },
  {
   "cell_type": "code",
   "execution_count": 99,
   "metadata": {
    "id": "-bGx2fYfn7yR"
   },
   "outputs": [
    {
     "data": {
      "text/plain": [
       "array([[0, 0, 1],\n",
       "       [0, 0, 1],\n",
       "       [0, 0, 1],\n",
       "       [0, 0, 1]])"
      ]
     },
     "execution_count": 99,
     "metadata": {},
     "output_type": "execute_result"
    }
   ],
   "source": [
    "np.where(np_arr % 3 == 0, 1 ,0)"
   ]
  },
  {
   "cell_type": "markdown",
   "metadata": {
    "id": "GPGVCZU7Ezll"
   },
   "source": [
    "11) np_arr의 전체 평균, 열별 평균, 행별 평균을 구하세요."
   ]
  },
  {
   "cell_type": "code",
   "execution_count": 101,
   "metadata": {
    "id": "vkK6pHxZPLRc"
   },
   "outputs": [
    {
     "name": "stdout",
     "output_type": "stream",
     "text": [
      "[[ 1  2  3]\n",
      " [ 4  5  6]\n",
      " [ 7 16 18]\n",
      " [20 22 24]]\n",
      "--------------------------------------------------\n",
      "10.666666666666666\n",
      "--------------------------------------------------\n",
      "[ 8.   11.25 12.75]\n",
      "--------------------------------------------------\n",
      "[ 2.          5.         13.66666667 22.        ]\n"
     ]
    }
   ],
   "source": [
    "print(np_arr)\n",
    "print('-' * 50)\n",
    "print(np.mean(np_arr))\n",
    "print('-' * 50)\n",
    "print(np.mean(np_arr, axis = 0))\n",
    "print('-' * 50)\n",
    "print(np.mean(np_arr, axis = 1))"
   ]
  },
  {
   "cell_type": "code",
   "execution_count": null,
   "metadata": {},
   "outputs": [],
   "source": []
  }
 ],
 "metadata": {
  "colab": {
   "collapsed_sections": [],
   "name": "01 - 넘파이 기초.ipynb",
   "provenance": []
  },
  "kernelspec": {
   "display_name": "Python 3",
   "language": "python",
   "name": "python3"
  },
  "language_info": {
   "codemirror_mode": {
    "name": "ipython",
    "version": 3
   },
   "file_extension": ".py",
   "mimetype": "text/x-python",
   "name": "python",
   "nbconvert_exporter": "python",
   "pygments_lexer": "ipython3",
   "version": "3.8.8"
  }
 },
 "nbformat": 4,
 "nbformat_minor": 4
}
